{
 "cells": [
  {
   "cell_type": "code",
   "execution_count": null,
   "metadata": {},
   "outputs": [],
   "source": [
    "output = !git clone https://github.com/pupster90/Setup_Notebook.git\n",
    "%run Setup_Notebook/default.ipynb"
   ]
  },
  {
   "cell_type": "markdown",
   "metadata": {},
   "source": [
    "**<font color=\"red\" size=5>Note :</font><font size=5> \n",
    "Click the \n",
    "    <button class=\"btn btn-success\"><i class=\"fa fa-lg fa-id-card-o\"></i> Web</button>     button above\n",
    "</font>**"
   ]
  },
  {
   "cell_type": "markdown",
   "metadata": {
    "cell_style": "center"
   },
   "source": [
    "<br>\n",
    "<font size=12 face=\"Georgia\"> Welcome to io!</font>"
   ]
  },
  {
   "cell_type": "markdown",
   "metadata": {},
   "source": [
    "> <font size=5> **<font color=\"magenta\">io : </font>** *<font color=\"gray\">\"where everything is one\"</font>*"
   ]
  },
  {
   "cell_type": "markdown",
   "metadata": {},
   "source": [
    "**What is io?**\n",
    "\n",
    "**<font color=\"magenta\">io</font>** is a new [Jupyter](http://jupyter.org/) based OS thame makes installing and using <font color=\"orange\">Jupyter</font> a breeze!\n"
   ]
  },
  {
   "cell_type": "markdown",
   "metadata": {},
   "source": [
    "> **1. Make scientific coding simple<br>2. Make sharing ideas easy<br>3. Let people work on any device <font color=\"gray\">(ipads, chromebooks...)</font>**\n"
   ]
  },
  {
   "cell_type": "markdown",
   "metadata": {},
   "source": [
    " The [youtube video](www.google.com) below gives a brief overview of what is **<font color=\"magenta\">io :</font>**"
   ]
  },
  {
   "cell_type": "code",
   "execution_count": null,
   "metadata": {
    "code_folding": []
   },
   "outputs": [],
   "source": [
    "# Code creates youtube video\n",
    "display(HTML(\"\"\"\n",
    "<div class=\"row\"><div class=\"col-xs-12 col-md-offset-3 col-md-6\">\n",
    "<div class=\"embed-responsive embed-responsive-16by9\">\n",
    "  <iframe class=\"embed-responsive-item\" \n",
    "  src='https://www.youtube.com/embed/p34OR7IVZiE'></iframe></div>\n",
    "</div></div>\n",
    "\"\"\"))\n"
   ]
  },
  {
   "cell_type": "markdown",
   "metadata": {},
   "source": [
    "**<font size=5> Start using </font>** **<font color=\"magenta\" size=5>io : </font>**"
   ]
  },
  {
   "cell_type": "markdown",
   "metadata": {},
   "source": [
    "Ready to try out  **<font color=\"magenta\">io?</font>**"
   ]
  },
  {
   "cell_type": "markdown",
   "metadata": {},
   "source": [
    "Setup is a breeze! Just click the <font color=\"green\">Start Button</font> and your done!\n",
    "\n",
    "**<font color=\"red\"> Tip : </font>** You can always come back and click the <font color=\"green\">Start Button</font> again to **reset your computer,** however, this will <font color=\"red\">delete your files!</font>"
   ]
  },
  {
   "cell_type": "code",
   "execution_count": null,
   "metadata": {},
   "outputs": [],
   "source": [
    "setup_btn = Button(description=\"start\", button_style=\"Success\")\n",
    "setup_progress = IntProgress(value=0,min=0,max=7, description='Loading:', bar_style='success', layout=Layout(visibility=\"hidden\"))\n",
    "setup_finish = HTMLMath(\"<h1 class='text-success' style='margin:0'>&nbsp Finished!</h1>\", layout=Layout(visibility=\"hidden\") )\n",
    "HBox([ setup_btn, setup_progress, setup_finish ], layout=Layout(align_items='center') )"
   ]
  },
  {
   "cell_type": "markdown",
   "metadata": {},
   "source": [
    "# <font color=\"green\">Start</font> Runs the Code Below \n",
    "\n",
    "> <font color=\"red\">You don't need to understand this code</font>"
   ]
  },
  {
   "cell_type": "markdown",
   "metadata": {},
   "source": [
    "Create the user's folders <font color=\"blue\">Apps, Downloads, Private, Public</font>.\n",
    "* **Add** <font color=\"magenta\">Cytoscape</font> and <font color=\"magenta\">Ideker_Online</font> to <font color=\"blue\">Apps</font>\n",
    "* **Add** <font color=\"magenta\">Public_Profile</font> and <font color=\"magenta\">My_First_Research_Paper</font> to <font color=\"blue\">Public</font>."
   ]
  },
  {
   "cell_type": "code",
   "execution_count": null,
   "metadata": {},
   "outputs": [],
   "source": [
    "def setupIO(b):\n",
    "    # Reset Folders: Apps Downloads Public Private \n",
    "    setup_progress.layout.visibility = \"visible\"\n",
    "    !cd && rm -rf Apps Downloads Public Private      #<-- Delete old folders\n",
    "    !cd && mkdir Apps Downloads Private Public       #<-- Create folders\n",
    "    setup_progress.value += 1\n",
    "    \n",
    "    # Create user's starting Apps & Files\n",
    "    output = !cd ~/Apps && git clone https://github.com/pupster90/Cytoscape.git\n",
    "    setup_progress.value += 1\n",
    "    output = !cd ~/Apps && git clone https://github.com/pupster90/Setup_Notebook.git\n",
    "    setup_progress.value += 1\n",
    "    output = !cd ~/Apps && git clone https://github.com/pupster90/io_Online.git\n",
    "    setup_progress.value += 1\n",
    "    output = !cd ~/Public && git clone https://github.com/pupster90/Public_Profile.git\n",
    "    setup_progress.value += 1\n",
    "    output = !cd ~/Public && git clone https://github.com/pupster90/My_First_Research_Paper.git\n",
    "    setup_progress.value += 1\n",
    "    output = !cd ~/Public && git clone https://github.com/pupster90/io_Presentation.git\n",
    "    setup_progress.value += 1    \n",
    "    setup_finish.layout.visibility = \"visible\"\n",
    "setup_btn.on_click( setupIO )"
   ]
  },
  {
   "cell_type": "code",
   "execution_count": null,
   "metadata": {},
   "outputs": [],
   "source": [
    "\n",
    "\n",
    "\n",
    "\n"
   ]
  }
 ],
 "metadata": {
  "hide_input": false,
  "kernelspec": {
   "display_name": "Python 3",
   "language": "python",
   "name": "python3"
  },
  "language_info": {
   "codemirror_mode": {
    "name": "ipython",
    "version": 3
   },
   "file_extension": ".py",
   "mimetype": "text/x-python",
   "name": "python",
   "nbconvert_exporter": "python",
   "pygments_lexer": "ipython3",
   "version": "3.6.3"
  },
  "toc": {
   "base_numbering": 1,
   "nav_menu": {},
   "number_sections": true,
   "sideBar": true,
   "skip_h1_title": false,
   "title_cell": "Table of Contents",
   "title_sidebar": "Contents",
   "toc_cell": false,
   "toc_position": {},
   "toc_section_display": true,
   "toc_window_display": false
  },
  "varInspector": {
   "cols": {
    "lenName": 16,
    "lenType": 16,
    "lenVar": 40
   },
   "kernels_config": {
    "python": {
     "delete_cmd_postfix": "",
     "delete_cmd_prefix": "del ",
     "library": "var_list.py",
     "varRefreshCmd": "print(var_dic_list())"
    },
    "r": {
     "delete_cmd_postfix": ") ",
     "delete_cmd_prefix": "rm(",
     "library": "var_list.r",
     "varRefreshCmd": "cat(var_dic_list()) "
    }
   },
   "types_to_exclude": [
    "module",
    "function",
    "builtin_function_or_method",
    "instance",
    "_Feature"
   ],
   "window_display": false
  },
  "widgets": {
   "application/vnd.jupyter.widget-state+json": {
    "state": {
     "0a56fce2d03045858bd4e37a5dae56ae": {
      "model_module": "@jupyter-widgets/controls",
      "model_module_version": "1.2.0",
      "model_name": "HBoxModel",
      "state": {
       "children": [
        "IPY_MODEL_2725098c9564483cb71712f8dbbe4881",
        "IPY_MODEL_2471abc53f4e4cca838cef1078f53ab8",
        "IPY_MODEL_78479fb554914342884978ed10e7c0c8"
       ],
       "layout": "IPY_MODEL_c640043149e742cfb78657b6d076af88"
      }
     },
     "2471abc53f4e4cca838cef1078f53ab8": {
      "model_module": "@jupyter-widgets/controls",
      "model_module_version": "1.2.0",
      "model_name": "IntProgressModel",
      "state": {
       "bar_style": "success",
       "description": "Loading:",
       "layout": "IPY_MODEL_d94fe7eba8c843d9b1509ae21a5d2c30",
       "max": 7,
       "style": "IPY_MODEL_863e27de8e2a4fe5a581bb417ec919a1",
       "value": 7
      }
     },
     "2725098c9564483cb71712f8dbbe4881": {
      "model_module": "@jupyter-widgets/controls",
      "model_module_version": "1.2.0",
      "model_name": "ButtonModel",
      "state": {
       "button_style": "success",
       "description": "start",
       "layout": "IPY_MODEL_c3786e9299984d5183e642303dad9ae9",
       "style": "IPY_MODEL_2d91f8d2d9d740d587d3f2e4375b9acc"
      }
     },
     "2d91f8d2d9d740d587d3f2e4375b9acc": {
      "model_module": "@jupyter-widgets/controls",
      "model_module_version": "1.2.0",
      "model_name": "ButtonStyleModel",
      "state": {}
     },
     "78479fb554914342884978ed10e7c0c8": {
      "model_module": "@jupyter-widgets/controls",
      "model_module_version": "1.2.0",
      "model_name": "HTMLMathModel",
      "state": {
       "layout": "IPY_MODEL_bc7d2a61f6364febbe9419205f44e3d7",
       "style": "IPY_MODEL_c047988a661b4b64a8974edb281e6dd7",
       "value": "<h1 class='text-success' style='margin:0'>&nbsp Finished!</h1>"
      }
     },
     "863e27de8e2a4fe5a581bb417ec919a1": {
      "model_module": "@jupyter-widgets/controls",
      "model_module_version": "1.2.0",
      "model_name": "ProgressStyleModel",
      "state": {
       "description_width": ""
      }
     },
     "bc7d2a61f6364febbe9419205f44e3d7": {
      "model_module": "@jupyter-widgets/base",
      "model_module_version": "1.0.0",
      "model_name": "LayoutModel",
      "state": {
       "visibility": "visible"
      }
     },
     "c047988a661b4b64a8974edb281e6dd7": {
      "model_module": "@jupyter-widgets/controls",
      "model_module_version": "1.2.0",
      "model_name": "DescriptionStyleModel",
      "state": {
       "description_width": ""
      }
     },
     "c3786e9299984d5183e642303dad9ae9": {
      "model_module": "@jupyter-widgets/base",
      "model_module_version": "1.0.0",
      "model_name": "LayoutModel",
      "state": {}
     },
     "c640043149e742cfb78657b6d076af88": {
      "model_module": "@jupyter-widgets/base",
      "model_module_version": "1.0.0",
      "model_name": "LayoutModel",
      "state": {
       "align_items": "center"
      }
     },
     "d94fe7eba8c843d9b1509ae21a5d2c30": {
      "model_module": "@jupyter-widgets/base",
      "model_module_version": "1.0.0",
      "model_name": "LayoutModel",
      "state": {
       "visibility": "visible"
      }
     }
    },
    "version_major": 2,
    "version_minor": 0
   }
  }
 },
 "nbformat": 4,
 "nbformat_minor": 2
}
