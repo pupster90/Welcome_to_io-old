{
 "cells": [
  {
   "cell_type": "code",
   "execution_count": 20,
   "metadata": {},
   "outputs": [
    {
     "data": {
      "text/html": [
       "<script>var py = Jupyter.notebook.kernel</script>"
      ],
      "text/plain": [
       "<IPython.core.display.HTML object>"
      ]
     },
     "metadata": {},
     "output_type": "display_data"
    },
    {
     "data": {
      "text/html": [
       "<style>\n",
       "div.output_subarea {\n",
       "    padding: 0;\n",
       "}\n",
       "div.run_this_cell{\n",
       "    padding: 0;\n",
       "}\n",
       "</style>"
      ],
      "text/plain": [
       "<IPython.core.display.HTML object>"
      ]
     },
     "metadata": {},
     "output_type": "display_data"
    },
    {
     "data": {
      "text/html": [
       "<style>\n",
       "*{margin:0; padding:0;} html, body,              .container{margin:0;!important padding:0;!important}              .container { width:100% !important;}\n",
       "</style>"
      ],
      "text/plain": [
       "<IPython.core.display.HTML object>"
      ]
     },
     "metadata": {},
     "output_type": "display_data"
    },
    {
     "data": {
      "text/html": [
       "<style>\n",
       "div.text_cell.rendered { /* Customize text cells */\n",
       "    font-size:1.1em;\n",
       "    line-height:1.4em;\n",
       "}\n",
       "</style>"
      ],
      "text/plain": [
       "<IPython.core.display.HTML object>"
      ]
     },
     "metadata": {},
     "output_type": "display_data"
    },
    {
     "data": {
      "text/html": [
       "<style>\n",
       "#notebook-container {\n",
       "    box-shadow: 0px 0px 0px 0px rgba(87, 87, 87, 0.2);\n",
       "}\n",
       "div#notebook {\n",
       "    background-color: White;\n",
       "}\n",
       ".end_space {\n",
       "    background-color: White;\n",
       "}\n",
       "</style>"
      ],
      "text/plain": [
       "<IPython.core.display.HTML object>"
      ]
     },
     "metadata": {},
     "output_type": "display_data"
    },
    {
     "data": {
      "text/html": [
       "<style>\n",
       ".input_prompt {\n",
       "    margin:0;\n",
       "    padding:0;\n",
       "    min-width: 0ex;\n",
       "    font-size:.7em;\n",
       "}\n",
       ".prompt {\n",
       "    min-width: 2vw;\n",
       "}\n",
       "div.input_prompt bdi {\n",
       "    display: none;\n",
       "}\n",
       "div.input_prompt i {\n",
       "    font-size: 2em;\n",
       "    opacity: 0.7;\n",
       "}\n",
       "\n",
       "div.output_subarea { /* Makes html output width larger */\n",
       "    max-width: 100%\n",
       "}\n",
       "</style>"
      ],
      "text/plain": [
       "<IPython.core.display.HTML object>"
      ]
     },
     "metadata": {},
     "output_type": "display_data"
    },
    {
     "data": {
      "application/javascript": [
       "\n",
       "// Movement between Cells\n",
       "Jupyter.keyboard_manager.command_shortcuts.add_shortcut('-', 'jupyter-notebook:select-previous-cell');\n",
       "Jupyter.keyboard_manager.command_shortcuts.add_shortcut('=', 'jupyter-notebook:select-next-cell');\n",
       "Jupyter.keyboard_manager.command_shortcuts.add_shortcut('shift--', 'jupyter-notebook:extend-selection-above');\n",
       "Jupyter.keyboard_manager.command_shortcuts.add_shortcut('shift-=', 'jupyter-notebook:extend-selection-below');\n",
       "Jupyter.keyboard_manager.command_shortcuts.add_shortcut('alt--', 'jupyter-notebook:move-selection-up');\n",
       "Jupyter.keyboard_manager.command_shortcuts.add_shortcut('alt-=', 'jupyter-notebook:move-selection-down');\n",
       "\n",
       "// Controls Collapssing\n",
       "Jupyter.keyboard_manager.command_shortcuts.add_shortcut(']', 'collapsible_headings:uncollapse_heading');\n",
       "Jupyter.keyboard_manager.command_shortcuts.add_shortcut('[', 'collapsible_headings:collapse_heading');\n",
       "Jupyter.keyboard_manager.command_shortcuts.add_shortcut('shift-]', 'collapsible_headings:uncollapse_all_headings');\n",
       "Jupyter.keyboard_manager.command_shortcuts.add_shortcut('shift-[', 'collapsible_headings:collapse_all_headings');\n",
       "\n",
       "// SKETCHY ONE // Entre command mode\n",
       "Jupyter.keyboard_manager.edit_shortcuts.add_shortcut('shift-backspace', 'jupyter-notebook:enter-command-mode');\n"
      ],
      "text/plain": [
       "<IPython.core.display.Javascript object>"
      ]
     },
     "metadata": {},
     "output_type": "display_data"
    },
    {
     "data": {
      "text/html": [
       "<style>\n",
       "body {\n",
       "    -webkit-overflow-scrolling: touch;\n",
       "}\n",
       "</style>"
      ],
      "text/plain": [
       "<IPython.core.display.HTML object>"
      ]
     },
     "metadata": {},
     "output_type": "display_data"
    },
    {
     "data": {
      "text/html": [
       "<style>\n",
       "div.run_this_cell i {\n",
       "    font-size: 2em;\n",
       "    opacity: 0.7;\n",
       "}\n",
       "</style>"
      ],
      "text/plain": [
       "<IPython.core.display.HTML object>"
      ]
     },
     "metadata": {},
     "output_type": "display_data"
    },
    {
     "data": {
      "application/javascript": [
       "// creates button and function\n",
       "if($(IPython.toolbar.selector.concat(' > #web-view')).length == 0){\n",
       "  IPython.toolbar.add_buttons_group([\n",
       "        {    'label'   : ' Web',\n",
       "             'icon'    : 'fa fa-lg fa-id-card-o',\n",
       "             'callback': function(){\n",
       "                 //IPython.notebook.kernel.restart(); //$(IPython.events).one('kernel_ready.Kernel', //function(){IPython.notebook.execute_all_cells();});\n",
       "                 IPython.notebook.execute_all_cells();\n",
       "                 document.getElementById(\"toggle_codecells\").click();\n",
       "                 Jupyter.actions.call(\"collapsible_headings:toggle_collapse_all_headings\")\n",
       "                 Jupyter.actions.call(\"hide_header:toggle\")\n",
       "                 }\n",
       "        }\n",
       "    ], 'web-view');\n",
       "}\n",
       "// makes it look pretty\n",
       "document.getElementById(\"web-view\").getElementsByClassName(\"btn btn-default\")[0].className=\"btn btn-lg btn-success\""
      ],
      "text/plain": [
       "<IPython.core.display.Javascript object>"
      ]
     },
     "metadata": {},
     "output_type": "display_data"
    }
   ],
   "source": [
    "output = ! git clone https://github.com/pupster90/Setup_Notebook.git\n",
    "%run Setup_Notebook/default.ipynb"
   ]
  },
  {
   "cell_type": "markdown",
   "metadata": {},
   "source": [
    "**<font color=\"red\">Note :</font>** Before we start, in the *options* at the top of this screen <font color=\"blue\">click</font> the `cell` option and then <font color=\"blue\">click</font> `Run All`"
   ]
  },
  {
   "cell_type": "markdown",
   "metadata": {},
   "source": [
    "<br>\n",
    "<font size=12 face=\"Georgia\"> Welcome to io!</font>"
   ]
  },
  {
   "cell_type": "markdown",
   "metadata": {},
   "source": [
    "> <font size=5> **<font color=\"magenta\">io : </font>** *<font color=\"gray\">\"where everything is one\"</font>*"
   ]
  },
  {
   "cell_type": "markdown",
   "metadata": {},
   "source": [
    "**What is io?**\n",
    "\n",
    "**<font color=\"magenta\">io</font>** is a new computing environment for the ideker lab! It's goal is to:\n"
   ]
  },
  {
   "cell_type": "markdown",
   "metadata": {},
   "source": [
    "> **1. Make scientific computing simple<br>2. Make sharing ideas easy<br>3. Let people work on any device**\n"
   ]
  },
  {
   "cell_type": "markdown",
   "metadata": {},
   "source": [
    " The [youtube video](www.google.com) below gives a brief overview of what is **<font color=\"magenta\">io :</font>**"
   ]
  },
  {
   "cell_type": "code",
   "execution_count": 15,
   "metadata": {
    "code_folding": []
   },
   "outputs": [
    {
     "data": {
      "text/html": [
       "\n",
       "<h1 style=\"color:red\">Add Real Video!</h1>\n",
       "<div class=\"row\"><div class=\"col-xs-12 col-md-offset-3 col-md-6\">\n",
       "<div class=\"embed-responsive embed-responsive-16by9\">\n",
       "  <iframe class=\"embed-responsive-item\" \n",
       "  src='https://www.youtube.com/embed/p34OR7IVZiE'></iframe></div>\n",
       "</div></div>\n"
      ],
      "text/plain": [
       "<IPython.core.display.HTML object>"
      ]
     },
     "metadata": {},
     "output_type": "display_data"
    }
   ],
   "source": [
    "# Code creates youtube video\n",
    "display(HTML(\"\"\"\n",
    "<h1 style=\"color:red\">Add Real Video!</h1>\n",
    "<div class=\"row\"><div class=\"col-xs-12 col-md-offset-3 col-md-6\">\n",
    "<div class=\"embed-responsive embed-responsive-16by9\">\n",
    "  <iframe class=\"embed-responsive-item\" \n",
    "  src='https://www.youtube.com/embed/p34OR7IVZiE'></iframe></div>\n",
    "</div></div>\n",
    "\"\"\"))"
   ]
  },
  {
   "cell_type": "markdown",
   "metadata": {
    "heading_collapsed": true
   },
   "source": [
    "# Start using **<font color=\"magenta\">io : </font>**"
   ]
  },
  {
   "cell_type": "markdown",
   "metadata": {
    "hidden": true
   },
   "source": [
    "Ready to try out  **<font color=\"magenta\">io?</font>**"
   ]
  },
  {
   "cell_type": "markdown",
   "metadata": {
    "hidden": true
   },
   "source": [
    "Setup is a breeze! Just click the <font color=\"green\">Start Button</font> to setup everything!\n",
    "\n",
    "**<font color=\"red\">Note : </font>** These changes don't take place immediately you have to wait for **<font color=\"magenta\">io</font>** to reset. This will usually take **1-2 hours.**\n",
    "\n",
    "**<font color=\"red\">Another Note : </font>** You can always come back and click the <font color=\"green\">Start Button</font> again to **reset your computer,** however, this will <font color=\"red\">delete your files!</font>"
   ]
  },
  {
   "cell_type": "code",
   "execution_count": 16,
   "metadata": {
    "hidden": true
   },
   "outputs": [
    {
     "data": {
      "application/vnd.jupyter.widget-view+json": {
       "model_id": "3a0c7965d18e4237aabc98ef394bbdaf",
       "version_major": 2,
       "version_minor": 0
      },
      "text/plain": [
       "HBox(children=(Button(button_style='success', description='start', style=ButtonStyle()), IntProgress(value=0, …"
      ]
     },
     "metadata": {},
     "output_type": "display_data"
    }
   ],
   "source": [
    "setup_btn = Button(description=\"start\", button_style=\"Success\")\n",
    "setup_progress = IntProgress(value=0,min=0,max=6, description='Loading:', bar_style='success', layout=Layout(visibility=\"hidden\"))\n",
    "setup_finish = HTMLMath(\"<h1 class='text-success' style='margin:0'>&nbsp Finished!</h1>\", layout=Layout(visibility=\"hidden\") )\n",
    "HBox([ setup_btn, setup_progress, setup_finish ], layout=Layout(align_items='center') )"
   ]
  },
  {
   "cell_type": "markdown",
   "metadata": {
    "heading_collapsed": true
   },
   "source": [
    "# <font color=\"green\">Start</font> Runs the Code Below \n",
    "\n",
    "> <font color=\"red\">You don't need to understand this code</font>"
   ]
  },
  {
   "cell_type": "markdown",
   "metadata": {
    "hidden": true
   },
   "source": [
    "Create the user's folders <font color=\"blue\">Apps, Downloads, Private, Public</font>.\n",
    "* **Add** <font color=\"magenta\">Cytoscape</font> and <font color=\"magenta\">Ideker_Online</font> to <font color=\"blue\">Apps</font>\n",
    "* **Add** <font color=\"magenta\">Public_Profile</font> and <font color=\"magenta\">My_First_Research_Paper</font> to <font color=\"blue\">Public</font>."
   ]
  },
  {
   "cell_type": "code",
   "execution_count": 17,
   "metadata": {
    "hidden": true
   },
   "outputs": [],
   "source": [
    "def setupIO(b):\n",
    "    # Reset Folders: Apps Downloads Public Private \n",
    "    setup_progress.layout.visibility = \"visible\"\n",
    "    !cd && rm -rf Apps Downloads Public Private      #<-- Delete old folders\n",
    "    !cd && mkdir Apps Downloads Private Public       #<-- Create folders\n",
    "    setup_progress.value += 1\n",
    "    \n",
    "    # Create user's starting Apps & Files\n",
    "    output = !cd ~/Apps && git clone https://github.com/pupster90/Cytoscape.git\n",
    "    setup_progress.value += 1\n",
    "    output = !cd ~/Apps && git clone https://github.com/pupster90/Setup_Notebook.git\n",
    "    setup_progress.value += 1\n",
    "    output = !cd ~/Apps && git clone https://github.com/pupster90/Ideker_Online.git\n",
    "    setup_progress.value += 1\n",
    "    output = !cd ~/Public && git clone https://github.com/pupster90/Public_Profile.git\n",
    "    setup_progress.value += 1\n",
    "    output = !cd ~/Public && git clone https://github.com/pupster90/My_First_Research_Paper.git\n",
    "    setup_progress.value += 1\n",
    "    setup_finish.layout.visibility = \"visible\"\n",
    "setup_btn.on_click( setupIO )"
   ]
  },
  {
   "cell_type": "code",
   "execution_count": null,
   "metadata": {
    "hidden": true
   },
   "outputs": [],
   "source": [
    "\n",
    "\n",
    "\n",
    "\n"
   ]
  }
 ],
 "metadata": {
  "hide_input": false,
  "kernelspec": {
   "display_name": "Python 3",
   "language": "python",
   "name": "python3"
  },
  "language_info": {
   "codemirror_mode": {
    "name": "ipython",
    "version": 3
   },
   "file_extension": ".py",
   "mimetype": "text/x-python",
   "name": "python",
   "nbconvert_exporter": "python",
   "pygments_lexer": "ipython3",
   "version": "3.6.3"
  },
  "toc": {
   "base_numbering": 1,
   "nav_menu": {},
   "number_sections": true,
   "sideBar": true,
   "skip_h1_title": false,
   "title_cell": "Table of Contents",
   "title_sidebar": "Contents",
   "toc_cell": false,
   "toc_position": {},
   "toc_section_display": true,
   "toc_window_display": false
  },
  "varInspector": {
   "cols": {
    "lenName": 16,
    "lenType": 16,
    "lenVar": 40
   },
   "kernels_config": {
    "python": {
     "delete_cmd_postfix": "",
     "delete_cmd_prefix": "del ",
     "library": "var_list.py",
     "varRefreshCmd": "print(var_dic_list())"
    },
    "r": {
     "delete_cmd_postfix": ") ",
     "delete_cmd_prefix": "rm(",
     "library": "var_list.r",
     "varRefreshCmd": "cat(var_dic_list()) "
    }
   },
   "types_to_exclude": [
    "module",
    "function",
    "builtin_function_or_method",
    "instance",
    "_Feature"
   ],
   "window_display": false
  }
 },
 "nbformat": 4,
 "nbformat_minor": 2
}
